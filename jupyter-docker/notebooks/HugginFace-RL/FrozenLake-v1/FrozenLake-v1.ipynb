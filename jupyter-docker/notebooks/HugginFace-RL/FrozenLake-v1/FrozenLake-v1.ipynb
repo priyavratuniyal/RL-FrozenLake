{
 "cells": [
  {
   "cell_type": "code",
   "execution_count": 1,
   "id": "8610c98b-70d9-4335-9fd7-893f6eaa89d1",
   "metadata": {},
   "outputs": [
    {
     "name": "stdout",
     "output_type": "stream",
     "text": [
      "Requirement already satisfied: pyvirtualdisplay in /opt/conda/lib/python3.10/site-packages (3.0)\n"
     ]
    }
   ],
   "source": [
    "!pip install pyvirtualdisplay"
   ]
  },
  {
   "cell_type": "code",
   "execution_count": 2,
   "id": "30e88c4a-4e7c-4a9a-a4d4-370b3c58d5f0",
   "metadata": {},
   "outputs": [
    {
     "name": "stdout",
     "output_type": "stream",
     "text": [
      "Requirement already satisfied: gymnasium in /opt/conda/lib/python3.10/site-packages (from -r requirements.txt (line 1)) (0.29.1)\n",
      "Requirement already satisfied: pygame in /opt/conda/lib/python3.10/site-packages (from -r requirements.txt (line 2)) (2.6.1)\n",
      "Requirement already satisfied: numpy in /opt/conda/lib/python3.10/site-packages (from -r requirements.txt (line 3)) (2.1.1)\n",
      "Requirement already satisfied: huggingface_hub in /opt/conda/lib/python3.10/site-packages (from -r requirements.txt (line 5)) (0.25.1)\n",
      "Requirement already satisfied: pyyaml==6.0 in /opt/conda/lib/python3.10/site-packages (from -r requirements.txt (line 6)) (6.0)\n",
      "Requirement already satisfied: imageio in /opt/conda/lib/python3.10/site-packages (from -r requirements.txt (line 7)) (2.35.1)\n",
      "Requirement already satisfied: imageio_ffmpeg in /opt/conda/lib/python3.10/site-packages (from -r requirements.txt (line 8)) (0.5.1)\n",
      "Requirement already satisfied: pyglet==1.5.1 in /opt/conda/lib/python3.10/site-packages (from -r requirements.txt (line 9)) (1.5.1)\n",
      "Requirement already satisfied: tqdm in /opt/conda/lib/python3.10/site-packages (from -r requirements.txt (line 10)) (4.65.0)\n",
      "Requirement already satisfied: cloudpickle>=1.2.0 in /opt/conda/lib/python3.10/site-packages (from gymnasium->-r requirements.txt (line 1)) (3.0.0)\n",
      "Requirement already satisfied: typing-extensions>=4.3.0 in /opt/conda/lib/python3.10/site-packages (from gymnasium->-r requirements.txt (line 1)) (4.6.2)\n",
      "Requirement already satisfied: farama-notifications>=0.0.1 in /opt/conda/lib/python3.10/site-packages (from gymnasium->-r requirements.txt (line 1)) (0.0.4)\n",
      "Requirement already satisfied: filelock in /opt/conda/lib/python3.10/site-packages (from huggingface_hub->-r requirements.txt (line 5)) (3.16.1)\n",
      "Requirement already satisfied: fsspec>=2023.5.0 in /opt/conda/lib/python3.10/site-packages (from huggingface_hub->-r requirements.txt (line 5)) (2024.9.0)\n",
      "Requirement already satisfied: packaging>=20.9 in /opt/conda/lib/python3.10/site-packages (from huggingface_hub->-r requirements.txt (line 5)) (23.1)\n",
      "Requirement already satisfied: requests in /opt/conda/lib/python3.10/site-packages (from huggingface_hub->-r requirements.txt (line 5)) (2.31.0)\n",
      "Requirement already satisfied: pillow>=8.3.2 in /opt/conda/lib/python3.10/site-packages (from imageio->-r requirements.txt (line 7)) (10.4.0)\n",
      "Requirement already satisfied: setuptools in /opt/conda/lib/python3.10/site-packages (from imageio_ffmpeg->-r requirements.txt (line 8)) (67.7.2)\n",
      "Requirement already satisfied: charset-normalizer<4,>=2 in /opt/conda/lib/python3.10/site-packages (from requests->huggingface_hub->-r requirements.txt (line 5)) (3.1.0)\n",
      "Requirement already satisfied: idna<4,>=2.5 in /opt/conda/lib/python3.10/site-packages (from requests->huggingface_hub->-r requirements.txt (line 5)) (3.4)\n",
      "Requirement already satisfied: urllib3<3,>=1.21.1 in /opt/conda/lib/python3.10/site-packages (from requests->huggingface_hub->-r requirements.txt (line 5)) (2.0.2)\n",
      "Requirement already satisfied: certifi>=2017.4.17 in /opt/conda/lib/python3.10/site-packages (from requests->huggingface_hub->-r requirements.txt (line 5)) (2023.5.7)\n"
     ]
    }
   ],
   "source": [
    "!pip install -r requirements.txt"
   ]
  },
  {
   "cell_type": "code",
   "execution_count": 3,
   "id": "54d07140-5b1c-4b9b-be22-f8c83e359b74",
   "metadata": {},
   "outputs": [
    {
     "data": {
      "text/plain": [
       "<pyvirtualdisplay.display.Display at 0x7f164db53550>"
      ]
     },
     "execution_count": 3,
     "metadata": {},
     "output_type": "execute_result"
    }
   ],
   "source": [
    "from pyvirtualdisplay import Display\n",
    "\n",
    "virtual_display = Display(visible=0, size=(1400, 900))\n",
    "virtual_display"
   ]
  },
  {
   "cell_type": "code",
   "execution_count": 4,
   "id": "30198779-ac9b-4366-ba86-e6753e8a39c7",
   "metadata": {},
   "outputs": [],
   "source": [
    "import numpy as np\n",
    "import gymnasium as gym\n",
    "import random\n",
    "import imageio\n",
    "import os\n",
    "from tqdm import tqdm"
   ]
  },
  {
   "cell_type": "code",
   "execution_count": 5,
   "id": "304922b4-eda0-4f5f-afde-b3fefbba8d46",
   "metadata": {},
   "outputs": [],
   "source": [
    "env=gym.make('FrozenLake-v1', map_name='4x4', is_slippery=False, render_mode='rgb_array')  #render_mode='rgb_array'\n",
    "env_slippery=gym.make('FrozenLake-v1', map_name='4x4', is_slippery=True, render_mode='rgb_array')\n",
    "env_8x8=gym.make('FrozenLake-v1', map_name='8x8', is_slippery=False, render_mode='rgb_array')"
   ]
  },
  {
   "cell_type": "code",
   "execution_count": 6,
   "id": "132fcd4b-350c-40b2-8d59-599c0fa97840",
   "metadata": {},
   "outputs": [
    {
     "name": "stdout",
     "output_type": "stream",
     "text": [
      "------FrozenLake-v1-4x4------\n",
      "Observation Space: 16\n",
      "Action Space: 4\n",
      "\n",
      "------FrozenLake-v1-4x4-Slippery------\n",
      "Observation Space: 16\n",
      "Action Space: 4\n",
      "\n",
      "------FrozenLake-v1-8x8------\n",
      "Observation Space: 64\n",
      "Action Space: 4\n",
      "\n"
     ]
    }
   ],
   "source": [
    "print(\"------FrozenLake-v1-4x4------\")\n",
    "print(f'Observation Space: {env.observation_space.n}')\n",
    "print(f'Action Space: {env.action_space.n}\\n')\n",
    "\n",
    "print(\"------FrozenLake-v1-4x4-Slippery------\")\n",
    "print(f'Observation Space: {env_slippery.observation_space.n}')\n",
    "print(f'Action Space: {env_slippery.action_space.n}\\n')\n",
    "\n",
    "print(\"------FrozenLake-v1-8x8------\")\n",
    "print(f'Observation Space: {env_8x8.observation_space.n}')\n",
    "print(f'Action Space: {env_8x8.action_space.n}\\n')"
   ]
  },
  {
   "cell_type": "code",
   "execution_count": 7,
   "id": "81339e0e-fa65-437e-97c2-4247ddd54aa7",
   "metadata": {},
   "outputs": [],
   "source": [
    "state_space=env.observation_space.n\n",
    "action_space=env.action_space.n\n",
    "\n",
    "def initialize_q_table(state_space, action_space):\n",
    "    Qtable = np.zeros((state_space, action_space))\n",
    "    return Qtable"
   ]
  },
  {
   "cell_type": "code",
   "execution_count": 8,
   "id": "f3809582-dbc8-4dcc-981e-a52c3cb6d0a8",
   "metadata": {},
   "outputs": [],
   "source": [
    "Qtable_frozenlake = initialize_q_table(state_space, action_space)\n",
    "Qtable_frozenlake_slippery = initialize_q_table(env_slippery.observation_space.n, env_slippery.action_space.n)\n",
    "Qtable_frozenlake_8x8 = initialize_q_table(env_8x8.observation_space.n, env_8x8.action_space.n)"
   ]
  },
  {
   "cell_type": "code",
   "execution_count": 9,
   "id": "1e68d5bf-081d-41d3-8198-6aa10d1c0223",
   "metadata": {},
   "outputs": [],
   "source": [
    "def greedy_policy(Qtable, state):\n",
    "    return np.argmax(Qtable[state][:])"
   ]
  },
  {
   "cell_type": "code",
   "execution_count": 17,
   "id": "f0e0ade8-eca9-4b29-9639-63fb100841cf",
   "metadata": {},
   "outputs": [],
   "source": [
    "def epsilon_greedy_policy(Qtable, state, epsilon):\n",
    "    random_number=random.uniform(0,1)\n",
    "    if random_number>epsilon:\n",
    "        return greedy_policy(Qtable, state)\n",
    "    else:\n",
    "        return env.action_space.sample()"
   ]
  },
  {
   "cell_type": "code",
   "execution_count": 18,
   "id": "088deee4-3851-4c53-ae48-63579480a5ec",
   "metadata": {},
   "outputs": [],
   "source": [
    "# Training parameters\n",
    "n_training_episodes = 10000  # Total training episodes\n",
    "learning_rate = 0.7  # Learning rate\n",
    "\n",
    "# Evaluation parameters\n",
    "n_eval_episodes = 100  # Total number of test episodes\n",
    "\n",
    "# Environment parameters\n",
    "env_id = \"FrozenLake-v1\"  # Name of the environment\n",
    "max_steps = 99  # Max steps per episode\n",
    "gamma = 0.95  # Discounting rate\n",
    "eval_seed = []  # The evaluation seed of the environment\n",
    "\n",
    "# Exploration parameters\n",
    "max_epsilon = 1.0  # Exploration probability at start\n",
    "min_epsilon = 0.05  # Minimum exploration probability\n",
    "decay_rate = 0.0005  # Exponential decay rate for exploration prob"
   ]
  },
  {
   "cell_type": "code",
   "execution_count": 19,
   "id": "d2f07812-4fac-4768-bb11-223dddc749f6",
   "metadata": {},
   "outputs": [],
   "source": [
    "def epsilon_exponential_decay(max_epsilon, min_epsilon, decay_rate, episode):\n",
    "    return (min_epsilon + (max_epsilon-min_epsilon)*np.exp(-decay_rate*episode))"
   ]
  },
  {
   "cell_type": "code",
   "execution_count": 29,
   "id": "25714f22-f4da-4a8d-8d61-9b2c8a3c0bd0",
   "metadata": {},
   "outputs": [],
   "source": [
    "def train(n_training_episodes, min_epsilon, max_epsilon, decay_rate, env, max_steps, Qtable):\n",
    "    for episode in tqdm(range(n_training_episodes)):\n",
    "        # Reduce epsilon (because we need less and less exploration)\n",
    "        epsilon = epsilon_exponential_decay(max_epsilon, min_epsilon, decay_rate, episode)\n",
    "        # Reset the environment\n",
    "        state, info = env.reset()\n",
    "        step = 0\n",
    "        terminated = False\n",
    "        truncated = False\n",
    "\n",
    "        # repeat\n",
    "        for step in range(max_steps):\n",
    "            # Choose the action At using epsilon greedy policy\n",
    "            action = epsilon_greedy_policy(Qtable, state, epsilon)\n",
    "\n",
    "            # Take action At and observe Rt+1 and St+1\n",
    "            # Take the action (a) and observe the outcome state(s') and reward (r)\n",
    "            new_state, reward, terminated, truncated, info = env.step(action)\n",
    "\n",
    "            # Update Q(s,a):= Q(s,a) + lr [R(s,a) + gamma * max Q(s',a') - Q(s,a)]\n",
    "            Qtable[state][action] = Qtable[state][action] + learning_rate * (\n",
    "                reward + gamma * np.max(Qtable[new_state]) - Qtable[state][action]\n",
    "            )\n",
    "\n",
    "            # If terminated or truncated finish the episode\n",
    "            if terminated or truncated:\n",
    "                break\n",
    "\n",
    "            # Our next state is the new state\n",
    "            state = new_state\n",
    "    return Qtable"
   ]
  },
  {
   "cell_type": "code",
   "execution_count": 30,
   "id": "bcab91a3-3574-4a8c-8fb8-e817c589dc9f",
   "metadata": {},
   "outputs": [
    {
     "name": "stderr",
     "output_type": "stream",
     "text": [
      "100%|██████████| 10000/10000 [00:01<00:00, 8322.47it/s]\n"
     ]
    }
   ],
   "source": [
    "Qtable_frozenlake = train(n_training_episodes, min_epsilon, max_epsilon, decay_rate, env, max_steps, Qtable_frozenlake)"
   ]
  },
  {
   "cell_type": "code",
   "execution_count": 31,
   "id": "32bf8b32-9389-4cc5-8b40-9b27729b5870",
   "metadata": {},
   "outputs": [
    {
     "name": "stderr",
     "output_type": "stream",
     "text": [
      "100%|██████████| 10000/10000 [00:02<00:00, 3346.81it/s]\n"
     ]
    }
   ],
   "source": [
    "Qtable_frozenlake_slippery = train(n_training_episodes, min_epsilon, max_epsilon, decay_rate, env_slippery, max_steps, Qtable_frozenlake_slippery)"
   ]
  },
  {
   "cell_type": "code",
   "execution_count": 32,
   "id": "f38b73a9-f1d8-4019-b021-d299e8cf049b",
   "metadata": {},
   "outputs": [
    {
     "name": "stderr",
     "output_type": "stream",
     "text": [
      "100%|██████████| 10000/10000 [00:14<00:00, 689.31it/s]\n"
     ]
    }
   ],
   "source": [
    "Qtable_frozenlake_8x8 = train(10000, min_epsilon, max_epsilon, decay_rate, env_8x8, max_steps, Qtable_frozenlake_8x8)"
   ]
  },
  {
   "cell_type": "code",
   "execution_count": 33,
   "id": "18e4a5fe-39cc-45d3-9394-9096b6070394",
   "metadata": {
    "scrolled": true
   },
   "outputs": [
    {
     "data": {
      "text/plain": [
       "array([[0.73509189, 0.77378094, 0.77378094, 0.73509189],\n",
       "       [0.73509189, 0.        , 0.81450625, 0.77378094],\n",
       "       [0.77378094, 0.857375  , 0.77378094, 0.81450625],\n",
       "       [0.81450625, 0.        , 0.77378094, 0.77378094],\n",
       "       [0.77378094, 0.81450625, 0.        , 0.73509189],\n",
       "       [0.        , 0.        , 0.        , 0.        ],\n",
       "       [0.        , 0.9025    , 0.        , 0.81450625],\n",
       "       [0.        , 0.        , 0.        , 0.        ],\n",
       "       [0.81450625, 0.        , 0.857375  , 0.77378094],\n",
       "       [0.81450625, 0.9025    , 0.9025    , 0.        ],\n",
       "       [0.857375  , 0.95      , 0.        , 0.857375  ],\n",
       "       [0.        , 0.        , 0.        , 0.        ],\n",
       "       [0.        , 0.        , 0.        , 0.        ],\n",
       "       [0.        , 0.9025    , 0.95      , 0.857375  ],\n",
       "       [0.9025    , 0.95      , 1.        , 0.9025    ],\n",
       "       [0.        , 0.        , 0.        , 0.        ]])"
      ]
     },
     "execution_count": 33,
     "metadata": {},
     "output_type": "execute_result"
    }
   ],
   "source": [
    "Qtable_frozenlake"
   ]
  },
  {
   "cell_type": "code",
   "execution_count": 34,
   "id": "9ec947d3-505c-42a0-9588-d55ba7f12793",
   "metadata": {},
   "outputs": [
    {
     "data": {
      "text/plain": [
       "array([[6.14909801e-02, 5.51814657e-02, 6.78442127e-02, 6.22648043e-02],\n",
       "       [1.71854596e-02, 1.36928633e-03, 2.13065980e-02, 5.95182361e-02],\n",
       "       [1.04504527e-02, 1.65982932e-02, 1.40057818e-02, 1.98534732e-02],\n",
       "       [1.02980291e-04, 2.23485062e-03, 7.34850700e-03, 3.02210282e-02],\n",
       "       [7.77456399e-02, 8.70044810e-03, 9.83740242e-03, 3.66268723e-02],\n",
       "       [0.00000000e+00, 0.00000000e+00, 0.00000000e+00, 0.00000000e+00],\n",
       "       [6.47875121e-05, 3.60369976e-05, 2.85912870e-04, 6.20075239e-05],\n",
       "       [0.00000000e+00, 0.00000000e+00, 0.00000000e+00, 0.00000000e+00],\n",
       "       [3.09539127e-02, 9.22606589e-02, 2.80700832e-02, 8.21810198e-02],\n",
       "       [7.17095918e-02, 4.23598659e-01, 4.18173385e-02, 4.20377378e-02],\n",
       "       [1.62183894e-01, 2.06703052e-02, 2.02778606e-02, 1.03740748e-02],\n",
       "       [0.00000000e+00, 0.00000000e+00, 0.00000000e+00, 0.00000000e+00],\n",
       "       [0.00000000e+00, 0.00000000e+00, 0.00000000e+00, 0.00000000e+00],\n",
       "       [2.45507881e-01, 2.31340430e-01, 1.48534651e-01, 2.15218924e-01],\n",
       "       [4.18242707e-01, 4.45534126e-01, 6.14083457e-01, 5.95024315e-01],\n",
       "       [0.00000000e+00, 0.00000000e+00, 0.00000000e+00, 0.00000000e+00]])"
      ]
     },
     "execution_count": 34,
     "metadata": {},
     "output_type": "execute_result"
    }
   ],
   "source": [
    "Qtable_frozenlake_slippery"
   ]
  },
  {
   "cell_type": "code",
   "execution_count": 35,
   "id": "6bacdf40-d348-4e8a-9b03-11d6f7a6b685",
   "metadata": {},
   "outputs": [
    {
     "data": {
      "text/plain": [
       "array([[0. , 0. , 0. , 0. ],\n",
       "       [0. , 0. , 0. , 0. ],\n",
       "       [0. , 0. , 0. , 0. ],\n",
       "       [0. , 0. , 0. , 0. ],\n",
       "       [0. , 0. , 0. , 0. ],\n",
       "       [0. , 0. , 0. , 0. ],\n",
       "       [0. , 0. , 0. , 0. ],\n",
       "       [0. , 0. , 0. , 0. ],\n",
       "       [0. , 0. , 0. , 0. ],\n",
       "       [0. , 0. , 0. , 0. ],\n",
       "       [0. , 0. , 0. , 0. ],\n",
       "       [0. , 0. , 0. , 0. ],\n",
       "       [0. , 0. , 0. , 0. ],\n",
       "       [0. , 0. , 0. , 0. ],\n",
       "       [0. , 0. , 0. , 0. ],\n",
       "       [0. , 0. , 0. , 0. ],\n",
       "       [0. , 0. , 0. , 0. ],\n",
       "       [0. , 0. , 0. , 0. ],\n",
       "       [0. , 0. , 0. , 0. ],\n",
       "       [0. , 0. , 0. , 0. ],\n",
       "       [0. , 0. , 0. , 0. ],\n",
       "       [0. , 0. , 0. , 0. ],\n",
       "       [0. , 0. , 0. , 0. ],\n",
       "       [0. , 0. , 0. , 0. ],\n",
       "       [0. , 0. , 0. , 0. ],\n",
       "       [0. , 0. , 0. , 0. ],\n",
       "       [0. , 0. , 0. , 0. ],\n",
       "       [0. , 0. , 0. , 0. ],\n",
       "       [0. , 0. , 0. , 0. ],\n",
       "       [0. , 0. , 0. , 0. ],\n",
       "       [0. , 0. , 0. , 0. ],\n",
       "       [0. , 0. , 0. , 0. ],\n",
       "       [0. , 0. , 0. , 0. ],\n",
       "       [0. , 0. , 0. , 0. ],\n",
       "       [0. , 0. , 0. , 0. ],\n",
       "       [0. , 0. , 0. , 0. ],\n",
       "       [0. , 0. , 0. , 0. ],\n",
       "       [0. , 0. , 0. , 0. ],\n",
       "       [0. , 0. , 0. , 0. ],\n",
       "       [0. , 0. , 0. , 0. ],\n",
       "       [0. , 0. , 0. , 0. ],\n",
       "       [0. , 0. , 0. , 0. ],\n",
       "       [0. , 0. , 0. , 0. ],\n",
       "       [0. , 0. , 0. , 0. ],\n",
       "       [0. , 0. , 0. , 0. ],\n",
       "       [0. , 0. , 0. , 0. ],\n",
       "       [0. , 0. , 0. , 0. ],\n",
       "       [0. , 0. , 0. , 0. ],\n",
       "       [0. , 0. , 0. , 0. ],\n",
       "       [0. , 0. , 0. , 0. ],\n",
       "       [0. , 0. , 0. , 0. ],\n",
       "       [0. , 0. , 0. , 0. ],\n",
       "       [0. , 0. , 0. , 0. ],\n",
       "       [0. , 0. , 0. , 0. ],\n",
       "       [0. , 0. , 0. , 0. ],\n",
       "       [0. , 0.7, 0. , 0. ],\n",
       "       [0. , 0. , 0. , 0. ],\n",
       "       [0. , 0. , 0. , 0. ],\n",
       "       [0. , 0. , 0. , 0. ],\n",
       "       [0. , 0. , 0. , 0. ],\n",
       "       [0. , 0. , 0. , 0. ],\n",
       "       [0. , 0. , 0. , 0. ],\n",
       "       [0. , 0. , 0. , 0. ],\n",
       "       [0. , 0. , 0. , 0. ]])"
      ]
     },
     "execution_count": 35,
     "metadata": {},
     "output_type": "execute_result"
    }
   ],
   "source": [
    "Qtable_frozenlake_8x8"
   ]
  },
  {
   "cell_type": "code",
   "execution_count": 36,
   "id": "fd298b5a-3770-4d4c-a1e2-cd75d4462134",
   "metadata": {},
   "outputs": [
    {
     "name": "stdout",
     "output_type": "stream",
     "text": [
      "Qtable-FrozenLake-4x4 (shape) : (16, 4)\n",
      "Qtable-FrozenLake-4x4-Slippery (shape) : (16, 4)\n",
      "Qtable-FrozenLake-8x8 (shape) : (64, 4)\n"
     ]
    }
   ],
   "source": [
    "print(f'Qtable-FrozenLake-4x4 (shape) : {Qtable_frozenlake.shape}')\n",
    "print(f'Qtable-FrozenLake-4x4-Slippery (shape) : {Qtable_frozenlake_slippery.shape}')\n",
    "print(f'Qtable-FrozenLake-8x8 (shape) : {Qtable_frozenlake_8x8.shape}')"
   ]
  },
  {
   "cell_type": "code",
   "execution_count": 37,
   "id": "99153747-0404-41a4-87ca-91d0f9a1aeab",
   "metadata": {},
   "outputs": [],
   "source": [
    "def evaluate_agent(env, max_steps, n_eval_episodes, Q, seed):\n",
    "    episode_rewards = []\n",
    "    for episode in tqdm(range(n_eval_episodes)):\n",
    "        if seed:\n",
    "            state, info = env.reset(seed=seed[episode])\n",
    "        else:\n",
    "            state, info = env.reset()\n",
    "        step = 0\n",
    "        truncated = False\n",
    "        terminated = False\n",
    "        total_rewards_ep = 0\n",
    "\n",
    "        for step in range(max_steps):\n",
    "            # Take the action (index) that have the maximum expected future reward given that state\n",
    "            action = greedy_policy(Q, state)\n",
    "            new_state, reward, terminated, truncated, info = env.step(action)\n",
    "            total_rewards_ep += reward\n",
    "\n",
    "            if terminated or truncated:\n",
    "                break\n",
    "            state = new_state\n",
    "        episode_rewards.append(total_rewards_ep)\n",
    "    mean_reward = np.mean(episode_rewards)\n",
    "    std_reward = np.std(episode_rewards)\n",
    "\n",
    "    return mean_reward, std_reward"
   ]
  },
  {
   "cell_type": "code",
   "execution_count": 39,
   "id": "f02003da-3cd7-4240-9856-18f8b26e2051",
   "metadata": {},
   "outputs": [
    {
     "name": "stderr",
     "output_type": "stream",
     "text": [
      "100%|██████████| 100/100 [00:00<00:00, 11608.92it/s]"
     ]
    },
    {
     "name": "stdout",
     "output_type": "stream",
     "text": [
      "Mean_reward=1.00 +/- 0.00\n"
     ]
    },
    {
     "name": "stderr",
     "output_type": "stream",
     "text": [
      "\n"
     ]
    }
   ],
   "source": [
    "# Evaluate our Agent\n",
    "mean_reward, std_reward = evaluate_agent(env, max_steps, n_eval_episodes, Qtable_frozenlake, eval_seed)\n",
    "print(f\"Mean_reward={mean_reward:.2f} +/- {std_reward:.2f}\")"
   ]
  },
  {
   "cell_type": "code",
   "execution_count": 29,
   "id": "f601e48d-bd9b-449e-9ca0-3a40f4b26149",
   "metadata": {},
   "outputs": [],
   "source": [
    "from huggingface_hub import HfApi, snapshot_download\n",
    "from huggingface_hub.repocard import metadata_eval_result, metadata_save\n",
    "\n",
    "from pathlib import Path\n",
    "import datetime\n",
    "import json"
   ]
  },
  {
   "cell_type": "code",
   "execution_count": 40,
   "id": "54bc740c-8b96-4d3e-89c2-af39a4ee9326",
   "metadata": {},
   "outputs": [],
   "source": [
    "def record_video(env, Qtable, out_directory, fps=1):\n",
    "    \"\"\"\n",
    "    Generate a replay video of the agent\n",
    "    :param env\n",
    "    :param Qtable: Qtable of our agent\n",
    "    :param out_directory\n",
    "    :param fps: how many frame per seconds (with taxi-v3 and frozenlake-v1 we use 1)\n",
    "    \"\"\"\n",
    "    images = []\n",
    "    terminated = False\n",
    "    truncated = False\n",
    "    state, info = env.reset(seed=random.randint(0, 500))\n",
    "    img = env.render()\n",
    "    images.append(img)\n",
    "    while not terminated or truncated:\n",
    "        # Take the action (index) that have the maximum expected future reward given that state\n",
    "        action = np.argmax(Qtable[state][:])\n",
    "        state, reward, terminated, truncated, info = env.step(\n",
    "            action\n",
    "        )  # We directly put next_state = state for recording logic\n",
    "        img = env.render()\n",
    "        images.append(img)\n",
    "    imageio.mimsave(out_directory, [np.array(img) for i, img in enumerate(images)], fps=fps)"
   ]
  },
  {
   "cell_type": "code",
   "execution_count": 41,
   "id": "d1873664-7458-4f2d-9ad7-d5354e0f6723",
   "metadata": {},
   "outputs": [],
   "source": [
    "record_video(env, Qtable_frozenlake, 'frozenLake-v1.mp4',1)"
   ]
  },
  {
   "cell_type": "code",
   "execution_count": 32,
   "id": "54b5c6c9-66f2-4a62-bd61-09a4c47dde8e",
   "metadata": {},
   "outputs": [],
   "source": [
    "record_video(env_slippery, Qtable_frozenlake_slippery, 'frozenLake_Slippery-v1.mp4',1)"
   ]
  },
  {
   "cell_type": "code",
   "execution_count": null,
   "id": "772411f5-3a39-46dd-9903-e2b39e90cb5a",
   "metadata": {},
   "outputs": [],
   "source": [
    "record_video(env_8x8, Qtable_frozenlake_8x8, 'frozenLake_8x8-v1.mp4',1)"
   ]
  }
 ],
 "metadata": {
  "kernelspec": {
   "display_name": "Python 3 (ipykernel)",
   "language": "python",
   "name": "python3"
  },
  "language_info": {
   "codemirror_mode": {
    "name": "ipython",
    "version": 3
   },
   "file_extension": ".py",
   "mimetype": "text/x-python",
   "name": "python",
   "nbconvert_exporter": "python",
   "pygments_lexer": "ipython3",
   "version": "3.10.11"
  }
 },
 "nbformat": 4,
 "nbformat_minor": 5
}
